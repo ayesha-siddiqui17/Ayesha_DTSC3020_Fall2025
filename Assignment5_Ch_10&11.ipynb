{
  "cells": [
    {
      "cell_type": "markdown",
      "metadata": {
        "id": "view-in-github",
        "colab_type": "text"
      },
      "source": [
        "<a href=\"https://colab.research.google.com/github/ayesha-siddiqui17/Ayesha_DTSC3020_Fall2025/blob/main/Assignment5_Ch_10%2611.ipynb\" target=\"_parent\"><img src=\"https://colab.research.google.com/assets/colab-badge.svg\" alt=\"Open In Colab\"/></a>"
      ]
    },
    {
      "cell_type": "markdown",
      "id": "9903d230",
      "metadata": {
        "id": "9903d230"
      },
      "source": [
        "# Assignment5: CRM Cleanup @ **DalaShop**\n",
        "*Files (Ch.10), Exceptions (Ch.10), Unit Tests (Ch.11), and Regular Expressions*  \n",
        ".....\n",
        "\n",
        "**Total: 3 points**  (Two questions, 1.5 pts each)  \n",
        "\n",
        "> This assignment is scenario-based and aligned with Python Crash Course Ch.10 (files & exceptions), Ch.11 (unit testing with `unittest`), and Regular Expressions."
      ]
    },
    {
      "cell_type": "markdown",
      "id": "d6487401",
      "metadata": {
        "id": "d6487401"
      },
      "source": [
        "## Scenario\n",
        "You are a data intern at an online retailer called **DalaShop**.  \n",
        "Sales exported a **raw contacts** file from the CRM. It contains customer names, emails, and phone numbers, but the formatting is messy and some emails are invalid.  \n",
        "Your tasks:\n",
        "\n",
        "1. **Clean** the contacts (Files + Exceptions + Regex).  \n",
        "2. **Write unit tests** to make sure your helper functions work correctly and keep working in the future."
      ]
    },
    {
      "cell_type": "markdown",
      "id": "0bd1712f",
      "metadata": {
        "id": "0bd1712f"
      },
      "source": [
        "## Data file (given by the company): `contacts_raw.txt`\n",
        "Use this exact sample data (you may extend it for your own testing, but do **not** change it when submitting).  \n",
        "Run the next cell once to create the file beside your notebook."
      ]
    },
    {
      "cell_type": "code",
      "execution_count": 10,
      "id": "c395a1a8",
      "metadata": {
        "id": "c395a1a8",
        "colab": {
          "base_uri": "https://localhost:8080/"
        },
        "outputId": "61556c8e-dcbd-47d7-8f3a-ddbc32425adb"
      },
      "outputs": [
        {
          "output_type": "stream",
          "name": "stdout",
          "text": [
            "Wrote contacts_raw.txt with sample DalaShop data.\n"
          ]
        }
      ],
      "source": [
        "# Create the provided company dataset file\n",
        "with open(\"contacts_raw.txt\", \"w\", encoding=\"utf-8\") as f:\n",
        "    f.write('Alice Johnson <alice@example.com> , +1 (469) 555-1234\\nBob Roberts <bob[at]example.com> , 972-555-777\\nSara M. , sara@mail.co , 214 555 8888\\n\"Mehdi A.\" <mehdi.ay@example.org> , (469)555-9999\\nDelaram <delaram@example.io>, +1-972-777-2121\\nNima <NIMA@example.io> , 972.777.2121\\nduplicate <Alice@Example.com> , 469 555 1234')\n",
        "print(\"Wrote contacts_raw.txt with sample DalaShop data.\")"
      ]
    },
    {
      "cell_type": "markdown",
      "id": "1b535f73",
      "metadata": {
        "id": "1b535f73"
      },
      "source": [
        "## Q1 (1.5 pts) — CRM cleanup with Files, Exceptions, and Regex\n",
        "Implement `q1_crm_cleanup.py` to:\n",
        "\n",
        "1. **Read** `contacts_raw.txt` using `pathlib` and `with`. If the file is missing, **handle** it gracefully with `try/except FileNotFoundError` (print a friendly message; do not crash).\n",
        "2. **Validate emails** with a simple regex (`r\"[A-Za-z0-9._%+-]+@[A-Za-z0-9.-]+\\.[A-Za-z]{2,}\"`).  \n",
        "   - Trim whitespace with `strip()` before checking.  \n",
        "   - Use **full** matching (not partial).\n",
        "3. **Normalize phone numbers:** remove all non-digits (e.g., with `re.sub(r\"\\D\", \"\", raw)`).  \n",
        "   - If the result has **≥ 10 digits**, keep the **last 10 digits**.  \n",
        "   - Otherwise, return an **empty string** (`\"\"`).\n",
        "4. **Filter rows:** keep **only** rows with a valid email.\n",
        "5. **Deduplicate:** remove duplicates by **email** using **case-insensitive** comparison (e.g., `email.casefold()`). **Keep the first occurrence** and drop later duplicates.\n",
        "6. **Output CSV:** write to `contacts_clean.csv` with **columns exactly** `name,email,phone` (UTF-8).  \n",
        "7. **Preserve input order:** the order of rows in `contacts_clean.csv` must match the **first appearance** order from the input file. **Do not sort** the rows.\n",
        "\n",
        "**Grading rubric (1.5 pts):**\n",
        "- (0.4) File read/write via `pathlib` + graceful `FileNotFoundError` handling  \n",
        "- (0.5) Correct email regex validation + filtering  \n",
        "- (0.4) Phone normalization + case-insensitive de-dup (keep first)  \n",
        "- (0.2) Clean code, clear names, minimal docstrings/comments"
      ]
    },
    {
      "cell_type": "code",
      "source": [
        "# Write your answer here\n",
        "\n",
        "import re\n",
        "from pathlib import Path\n",
        "\n",
        "def is_valid_email(email):\n",
        "    return bool(re.fullmatch(r\"[A-Za-z0-9._%+-]+@[A-Za-z0-9.-]+\\.[A-Za-z]{2,}\", email.strip()))\n",
        "\n",
        "def normalize_phone(phone):\n",
        "    digits = re.sub(r\"\\D\", \"\", phone)\n",
        "    return digits[-10:] if len(digits) >= 10 else \"\"\n",
        "\n",
        "def parse_contacts(lines):\n",
        "    contacts = []\n",
        "    for line in lines:\n",
        "        parts = [p.strip().strip('\"') for p in re.split(r\",\", line)]\n",
        "        if len(parts) >= 3:\n",
        "            name, email, phone = parts[0], parts[1], parts[2]\n",
        "            if is_valid_email(email):\n",
        "                contacts.append((name, email.strip(), normalize_phone(phone)))\n",
        "    return contacts\n",
        "\n",
        "def dedup_contacts(contacts):\n",
        "    seen = set()\n",
        "    result = []\n",
        "    for name, email, phone in contacts:\n",
        "        key = email.casefold()\n",
        "        if key not in seen:\n",
        "            seen.add(key)\n",
        "            result.append((name, email, phone))\n",
        "    return result\n",
        "\n",
        "def main():\n",
        "    path = Path(\"contacts_raw.txt\")\n",
        "    try:\n",
        "        lines = path.read_text(encoding=\"utf-8\").splitlines()\n",
        "    except FileNotFoundError:\n",
        "        print(\"contacts_raw.txt not found.\")\n",
        "        return\n",
        "    contacts = parse_contacts(lines)\n",
        "    contacts = dedup_contacts(contacts)\n",
        "    out = Path(\"contacts_clean.csv\")\n",
        "    with out.open(\"w\", encoding=\"utf-8\") as f:\n",
        "        f.write(\"name,email,phone\\n\")\n",
        "        for name, email, phone in contacts:\n",
        "            f.write(f\"{name},{email},{phone}\\n\")\n",
        "\n",
        "if __name__ == \"__main__\":\n",
        "    main()\n"
      ],
      "metadata": {
        "id": "gO9xaHmKNlax"
      },
      "id": "gO9xaHmKNlax",
      "execution_count": 11,
      "outputs": []
    },
    {
      "cell_type": "markdown",
      "id": "258c5b04",
      "metadata": {
        "id": "258c5b04"
      },
      "source": [
        "## Q2 (1.5 pts) — Unit testing with `unittest`\n",
        "Create tests in `test_crm_cleanup.py` that cover at least:\n",
        "\n",
        "1. **Email validation**: valid/invalid variations.  \n",
        "2. **Phone normalization**: parentheses, dashes, spaces, country code; too-short cases.  \n",
        "3. **Parsing**: from a small multi-line string (not from a file), assert the exact structured rows (name/email/phone).  \n",
        "4. **De-duplication**: demonstrate that a case-variant duplicate email is dropped (first occurrence kept).\n",
        "\n",
        "\n"
      ]
    },
    {
      "cell_type": "code",
      "source": [
        "import unittest\n",
        "import sys\n",
        "import re\n",
        "from pathlib import Path\n",
        "\n",
        "def is_valid_email(email):\n",
        "    return bool(re.fullmatch(r\"[A-Za-z0-9._%+-]+@[A-Za-z0-9.-]+\\.[A-Za-z]{2,}\", email.strip()))\n",
        "\n",
        "def normalize_phone(phone):\n",
        "    digits = re.sub(r\"\\D\", \"\", phone)\n",
        "    return digits[-10:] if len(digits) >= 10 else \"\"\n",
        "\n",
        "def parse_contacts(lines):\n",
        "    contacts = []\n",
        "    for line in lines:\n",
        "        match = re.match(r'([^<>,\"]*?)?\\s*(<([^<>]+)>)?\\s*[,]?\\s*\"?([^\"]*)\"?\\s*[,]?\\s*(.*)', line)\n",
        "        if match:\n",
        "            name_part, _, email_in_angle_brackets, name_in_quotes, rest = match.groups()\n",
        "\n",
        "            name = name_in_quotes.strip() if name_in_quotes else name_part.strip()\n",
        "\n",
        "            email = email_in_angle_brackets.strip() if email_in_angle_brackets else \"\"\n",
        "            if not email:\n",
        "                 email_match = re.search(r\"[A-Za-z0-9._%+-]+@[A-Za-z0-9.-]+\\.[A-Za-z]{2,}\", rest)\n",
        "                 email = email_match.group(0).strip() if email_match else \"\"\n",
        "\n",
        "            phone_part = re.sub(r\"[A-Za-z0-9._%+-]+@[A-Za-z0-9.-]+\\.[A-Za-z]{2,}\", \"\", rest).strip()\n",
        "            phone = phone_part\n",
        "\n",
        "            if is_valid_email(email):\n",
        "                contacts.append((name, email, normalize_phone(phone)))\n",
        "\n",
        "    return contacts\n",
        "\n",
        "\n",
        "def dedup_contacts(contacts):\n",
        "    seen = set()\n",
        "    result = []\n",
        "    for name, email, phone in contacts:\n",
        "        key = email.casefold()\n",
        "        if key not in seen:\n",
        "            seen.add(key)\n",
        "            result.append((name, email, phone))\n",
        "    return result\n",
        "\n",
        "\n",
        "class TestCRMCleanup(unittest.TestCase):\n",
        "    def test_valid_emails(self):\n",
        "        self.assertTrue(is_valid_email(\"test@example.com\"))\n",
        "        self.assertFalse(is_valid_email(\"test[at]example.com\"))\n",
        "        self.assertFalse(is_valid_email(\"bad.com\"))\n",
        "        self.assertTrue(is_valid_email(\"alice@example.com\"))\n",
        "        self.assertTrue(is_valid_email(\"sara@mail.co\"))\n",
        "        self.assertTrue(is_valid_email(\"mehdi.ay@example.org\"))\n",
        "        self.assertTrue(is_valid_email(\"delaram@example.io\"))\n",
        "        self.assertTrue(is_valid_email(\"NIMA@example.io\"))\n",
        "\n",
        "\n",
        "    def test_phone_normalization(self):\n",
        "        self.assertEqual(normalize_phone(\"+1 (469) 555-1234\"), \"4695551234\")\n",
        "        self.assertEqual(normalize_phone(\"972-555-777\"), \"\")\n",
        "        self.assertEqual(normalize_phone(\"214 555 8888\"), \"2145558888\")\n",
        "        self.assertEqual(normalize_phone(\"(469)555-9999\"), \"4695559999\")\n",
        "        self.assertEqual(normalize_phone(\"+1-972-777-2121\"), \"9727772121\")\n",
        "        self.assertEqual(normalize_phone(\"972.777.2121\"), \"9727772121\")\n",
        "        self.assertEqual(normalize_phone(\"469 555 1234\"), \"4695551234\")\n",
        "        self.assertEqual(normalize_phone(\"123\"), \"\")\n",
        "        self.assertEqual(normalize_phone(\"1234567890123\"), \"4567890123\")\n",
        "\n",
        "\n",
        "    def test_parse_contacts(self):\n",
        "        lines = [\n",
        "            'Alice Johnson <alice@example.com> , +1 (469) 555-1234',\n",
        "            'Bob Roberts <bob[at]example.com> , 972-555-777',\n",
        "            'Sara M. , sara@mail.co , 214 555 8888',\n",
        "            '\"Mehdi A.\" <mehdi.ay@example.org> , (469)555-9999',\n",
        "            'Delaram <delaram@example.io>, +1-972-777-2121',\n",
        "            'Nima <NIMA@example.io> , 972.777.2121',\n",
        "            'duplicate <Alice@Example.com> , 469 555 1234',\n",
        "            'Name Only, bademail',\n",
        "            'Name and Email <valid@example.com>',\n",
        "            'Name, valid2@example.com, 1234567890'\n",
        "        ]\n",
        "        result = parse_contacts(lines)\n",
        "        expected = [\n",
        "            (\"Alice Johnson\", \"alice@example.com\", \"4695551234\"),\n",
        "            (\"Sara M.\", \"sara@mail.co\", \"2145558888\"),\n",
        "            (\"Mehdi A.\", \"mehdi.ay@example.org\", \"4695559999\"),\n",
        "            (\"Delaram\", \"delaram@example.io\", \"9727772121\"),\n",
        "            (\"Nima\", \"NIMA@example.io\", \"9727772121\"),\n",
        "            (\"duplicate\", \"Alice@Example.com\", \"4695551234\"),\n",
        "            (\"Name and Email\", \"valid@example.com\", \"\"),\n",
        "            (\"Name\", \"valid2@example.com\", \"1234567890\")\n",
        "        ]\n",
        "        self.assertEqual(result, expected)\n",
        "\n",
        "\n",
        "    def test_dedup_contacts(self):\n",
        "        data = [\n",
        "            (\"Alice\", \"alice@example.com\", \"123\"),\n",
        "            (\"Dup\", \"ALICE@example.com\", \"456\"),\n",
        "            (\"Bob\", \"bob@example.com\", \"789\"),\n",
        "            (\"Another Alice\", \"alice@example.com\", \"987\"),\n",
        "            (\"Charlie\", \"charlie@example.com\", \"654\")\n",
        "        ]\n",
        "        result = dedup_contacts(data)\n",
        "        expected = [\n",
        "            (\"Alice\", \"alice@example.com\", \"123\"),\n",
        "            (\"Bob\", \"bob@example.com\", \"789\"),\n",
        "            (\"Charlie\", \"charlie@example.com\", \"654\")\n",
        "        ]\n",
        "        self.assertEqual(result, expected)\n",
        "\n",
        "if __name__ == \"__main__\":\n",
        "    unittest.main(argv=['first-arg-is-ignored'], exit=False)"
      ],
      "metadata": {
        "id": "_M18cJw2NqZm",
        "colab": {
          "base_uri": "https://localhost:8080/"
        },
        "outputId": "a78a726b-a2d3-49e0-ee79-7eb17da91367"
      },
      "id": "_M18cJw2NqZm",
      "execution_count": 12,
      "outputs": [
        {
          "output_type": "stream",
          "name": "stderr",
          "text": [
            ".F..\n",
            "======================================================================\n",
            "FAIL: test_parse_contacts (__main__.TestCRMCleanup.test_parse_contacts)\n",
            "----------------------------------------------------------------------\n",
            "Traceback (most recent call last):\n",
            "  File \"/tmp/ipython-input-284979908.py\", line 95, in test_parse_contacts\n",
            "    self.assertEqual(result, expected)\n",
            "AssertionError: Lists differ: [('Mehdi A.', 'mehdi.ay@example.org', '4695559999')] != [('Alice Johnson', 'alice@example.com', '469[333 chars]90')]\n",
            "\n",
            "First differing element 0:\n",
            "('Mehdi A.', 'mehdi.ay@example.org', '4695559999')\n",
            "('Alice Johnson', 'alice@example.com', '4695551234')\n",
            "\n",
            "Second list contains 7 additional elements.\n",
            "First extra element 1:\n",
            "('Sara M.', 'sara@mail.co', '2145558888')\n",
            "\n",
            "+ [('Alice Johnson', 'alice@example.com', '4695551234'),\n",
            "+  ('Sara M.', 'sara@mail.co', '2145558888'),\n",
            "- [('Mehdi A.', 'mehdi.ay@example.org', '4695559999')]\n",
            "? ^                                                  ^\n",
            "\n",
            "+  ('Mehdi A.', 'mehdi.ay@example.org', '4695559999'),\n",
            "? ^                                                  ^\n",
            "\n",
            "+  ('Delaram', 'delaram@example.io', '9727772121'),\n",
            "+  ('Nima', 'NIMA@example.io', '9727772121'),\n",
            "+  ('duplicate', 'Alice@Example.com', '4695551234'),\n",
            "+  ('Name and Email', 'valid@example.com', ''),\n",
            "+  ('Name', 'valid2@example.com', '1234567890')]\n",
            "\n",
            "----------------------------------------------------------------------\n",
            "Ran 4 tests in 0.009s\n",
            "\n",
            "FAILED (failures=1)\n"
          ]
        }
      ]
    },
    {
      "cell_type": "markdown",
      "id": "f38af38b",
      "metadata": {
        "id": "f38af38b"
      },
      "source": [
        "## Grading rubric (total 3 pts)\n",
        "- **Q1 (1.5 pts)**  \n",
        "  - (0.4) File I/O with `pathlib` + graceful `FileNotFoundError` handling  \n",
        "  - (0.5) Email validation (regex + strip + full match) and filtering  \n",
        "  - (0.4) Phone normalization and **case-insensitive** de-duplication (keep first)  \n",
        "  - (0.2) Code clarity (names, minimal docstrings/comments)\n",
        "- **Q2 (1.5 pts)**  \n",
        "  - (0.6) Meaningful coverage for email/phone functions (valid & invalid)  \n",
        "  - (0.6) Parsing & de-dup tests that assert exact expected rows  \n",
        "  - (0.3) Standard `unittest` structure and readable test names\n"
      ]
    }
  ],
  "metadata": {
    "colab": {
      "provenance": [],
      "include_colab_link": true
    },
    "language_info": {
      "name": "python"
    },
    "kernelspec": {
      "name": "python3",
      "display_name": "Python 3"
    }
  },
  "nbformat": 4,
  "nbformat_minor": 5
}