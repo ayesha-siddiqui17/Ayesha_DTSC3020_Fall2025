{
  "nbformat": 4,
  "nbformat_minor": 0,
  "metadata": {
    "colab": {
      "provenance": [],
      "authorship_tag": "ABX9TyN6opEAQkUWz/J5KjSki5Gb",
      "include_colab_link": true
    },
    "kernelspec": {
      "name": "python3",
      "display_name": "Python 3"
    },
    "language_info": {
      "name": "python"
    }
  },
  "cells": [
    {
      "cell_type": "markdown",
      "metadata": {
        "id": "view-in-github",
        "colab_type": "text"
      },
      "source": [
        "<a href=\"https://colab.research.google.com/github/ayesha-siddiqui17/Ayesha_DTSC3020_Fall2025/blob/main/assignment_2.ipynb\" target=\"_parent\"><img src=\"https://colab.research.google.com/assets/colab-badge.svg\" alt=\"Open In Colab\"/></a>"
      ]
    },
    {
      "cell_type": "markdown",
      "source": [
        "**Exercise 1**"
      ],
      "metadata": {
        "id": "JnK6NEJqHiZo"
      }
    },
    {
      "cell_type": "code",
      "execution_count": 1,
      "metadata": {
        "colab": {
          "base_uri": "https://localhost:8080/"
        },
        "id": "wwFIcfGOG1-v",
        "outputId": "73f8af00-066e-40a3-edc1-3678aeff0f65"
      },
      "outputs": [
        {
          "output_type": "stream",
          "name": "stdout",
          "text": [
            "['apple', 'banana', 'orange']\n"
          ]
        }
      ],
      "source": [
        "# 1: Fruits List\n",
        "# print entire list\n",
        "\n",
        "fruits = [\"apple\", \"banana\", \"orange\"]\n",
        "print(fruits)"
      ]
    },
    {
      "cell_type": "code",
      "source": [
        "# print each item individually\n",
        "\n",
        "print(fruits[0])\n",
        "print(fruits[1])\n",
        "print(fruits[2])"
      ],
      "metadata": {
        "colab": {
          "base_uri": "https://localhost:8080/"
        },
        "id": "3en-qQhZHUww",
        "outputId": "bc8180ea-3f2e-4054-b915-ac31bd4ba786"
      },
      "execution_count": 2,
      "outputs": [
        {
          "output_type": "stream",
          "name": "stdout",
          "text": [
            "apple\n",
            "banana\n",
            "orange\n"
          ]
        }
      ]
    },
    {
      "cell_type": "markdown",
      "source": [
        "**Exercise 2**"
      ],
      "metadata": {
        "id": "pid_uIU4HmYg"
      }
    },
    {
      "cell_type": "code",
      "source": [
        "# 2: Names List\n",
        "# change first name in list\n",
        "# print new list\n",
        "\n",
        "names = [\"Ayesha\", \"Zayne\", \"Bella\", \"Loid\"]\n",
        "names[0] = \"Sasha\"\n",
        "print(names)"
      ],
      "metadata": {
        "colab": {
          "base_uri": "https://localhost:8080/"
        },
        "id": "noyXzkRSHlML",
        "outputId": "dd0f14c3-53bb-46aa-eda5-48bc67bfb8f6"
      },
      "execution_count": 3,
      "outputs": [
        {
          "output_type": "stream",
          "name": "stdout",
          "text": [
            "['Sasha', 'Zayne', 'Bella', 'Loid']\n"
          ]
        }
      ]
    },
    {
      "cell_type": "markdown",
      "source": [
        "**Exercise 3**"
      ],
      "metadata": {
        "id": "z9yi4x44INDa"
      }
    },
    {
      "cell_type": "code",
      "source": [
        "# 3: Vehicles List\n",
        "# add one more vehicle to end of list\n",
        "# print list\n",
        "\n",
        "vehicles = [\"car\", \"bike\", \"bus\", \"train\", \"motorcycle\"]\n",
        "vehicles.append(\"truck\")\n",
        "print(vehicles)"
      ],
      "metadata": {
        "colab": {
          "base_uri": "https://localhost:8080/"
        },
        "id": "n9TS25YKIQRJ",
        "outputId": "17138581-3a83-4a6c-c2bd-1cdfb548c18b"
      },
      "execution_count": 4,
      "outputs": [
        {
          "output_type": "stream",
          "name": "stdout",
          "text": [
            "['car', 'bike', 'bus', 'train', 'motorcycle', 'truck']\n"
          ]
        }
      ]
    },
    {
      "cell_type": "markdown",
      "source": [
        "**Exercise 4**"
      ],
      "metadata": {
        "id": "-TQWeVQFJBqW"
      }
    },
    {
      "cell_type": "code",
      "source": [
        "# 4: Foods List\n",
        "# remove one food from list\n",
        "# print new list\n",
        "\n",
        "foods = [\"sushi\", \"ramen\", \"fried chicken\", \"burger\", \"pasta\", \"pizza\"]\n",
        "foods.remove(\"fried chicken\")\n",
        "print(foods)"
      ],
      "metadata": {
        "colab": {
          "base_uri": "https://localhost:8080/"
        },
        "id": "rPrq4WFDJEZs",
        "outputId": "119bf11e-3fce-4477-ffd2-424501425cae"
      },
      "execution_count": 5,
      "outputs": [
        {
          "output_type": "stream",
          "name": "stdout",
          "text": [
            "['sushi', 'ramen', 'burger', 'pasta', 'pizza']\n"
          ]
        }
      ]
    },
    {
      "cell_type": "markdown",
      "source": [
        "**Exercise 5**"
      ],
      "metadata": {
        "id": "leU2WYQXKCyu"
      }
    },
    {
      "cell_type": "code",
      "source": [
        "# 5: Cities List\n",
        "# sort in alphabetical order\n",
        "# reverse list\n",
        "\n",
        "cities = [\"London\", \"Seoul\", \"Istanbul\", \"Tokyo\"]\n",
        "cities.sort()\n",
        "print(\"Alphabetical: \", cities)\n",
        "\n",
        "cities.reverse()\n",
        "print(\"Reversed: \", cities)\n"
      ],
      "metadata": {
        "colab": {
          "base_uri": "https://localhost:8080/"
        },
        "id": "D-V5j5KYKF7t",
        "outputId": "b539088c-9643-45b9-9134-3fb41a0ff7d0"
      },
      "execution_count": 11,
      "outputs": [
        {
          "output_type": "stream",
          "name": "stdout",
          "text": [
            "Alphabetical:  ['Istanbul', 'London', 'Seoul', 'Tokyo']\n",
            "Reversed:  ['Tokyo', 'Seoul', 'London', 'Istanbul']\n"
          ]
        }
      ]
    },
    {
      "cell_type": "markdown",
      "source": [
        "**Exercise 6**"
      ],
      "metadata": {
        "id": "fAlTx1OjK6D9"
      }
    },
    {
      "cell_type": "code",
      "source": [
        "# 6: Animals list\n",
        "# use for loop to print each animal\n",
        "\n",
        "animals = [\"deer\", \"panda\", \"otter\"]\n",
        "for animal in animals:\n",
        "  print(animal)"
      ],
      "metadata": {
        "colab": {
          "base_uri": "https://localhost:8080/"
        },
        "id": "kX3M8p1eK-Ex",
        "outputId": "acc118c2-9cd4-4e14-9a2e-1050098ae794"
      },
      "execution_count": 7,
      "outputs": [
        {
          "output_type": "stream",
          "name": "stdout",
          "text": [
            "deer\n",
            "panda\n",
            "otter\n"
          ]
        }
      ]
    },
    {
      "cell_type": "markdown",
      "source": [
        "**Exercise 7**"
      ],
      "metadata": {
        "id": "vOlKqsW_LkeP"
      }
    },
    {
      "cell_type": "code",
      "source": [
        "# 7: Numbers List (loop)\n",
        "# use for loop to print each number multiplied by 2\n",
        "\n",
        "numbers = [1, 2, 3, 4, 5]\n",
        "for number in numbers:\n",
        "  print(number * 2)"
      ],
      "metadata": {
        "colab": {
          "base_uri": "https://localhost:8080/"
        },
        "id": "Ji2yDlI1LgPE",
        "outputId": "27f19cff-734a-46fe-ad22-7e83da042ed9"
      },
      "execution_count": 8,
      "outputs": [
        {
          "output_type": "stream",
          "name": "stdout",
          "text": [
            "2\n",
            "4\n",
            "6\n",
            "8\n",
            "10\n"
          ]
        }
      ]
    },
    {
      "cell_type": "markdown",
      "source": [
        "**Exercise 8**"
      ],
      "metadata": {
        "id": "iL80L-w_L6n6"
      }
    },
    {
      "cell_type": "code",
      "source": [
        "# 8: Friends list\n",
        "# print first three friends\n",
        "# print last three friends\n",
        "\n",
        "friends = [\"Kate\", \"Meerab\", \"Salma\", \"Maki\", \"Hafsa\", \"Isabell\"]\n",
        "print(\"first three: \", friends[0:3])\n",
        "print(\"last three: \",friends[3:6])"
      ],
      "metadata": {
        "colab": {
          "base_uri": "https://localhost:8080/"
        },
        "id": "2N8257LSL80P",
        "outputId": "94574d44-4ec0-40d4-d8fa-cea6e7bc7344"
      },
      "execution_count": 10,
      "outputs": [
        {
          "output_type": "stream",
          "name": "stdout",
          "text": [
            "first three:  ['Kate', 'Meerab', 'Salma']\n",
            "last three:  ['Maki', 'Hafsa', 'Isabell']\n"
          ]
        }
      ]
    },
    {
      "cell_type": "markdown",
      "source": [
        "**Exercise 9**"
      ],
      "metadata": {
        "id": "g7mlTw4TNBk2"
      }
    },
    {
      "cell_type": "code",
      "source": [
        "# 9: Range Function\n",
        "# Use range() to create list from 1 to 10\n",
        "# print list\n",
        "\n",
        "numbers = list(range(1,11))\n",
        "print(numbers)"
      ],
      "metadata": {
        "colab": {
          "base_uri": "https://localhost:8080/"
        },
        "id": "IAadDTZkNFiw",
        "outputId": "81ad3e40-23fe-4a90-f0cd-84c604293273"
      },
      "execution_count": 12,
      "outputs": [
        {
          "output_type": "stream",
          "name": "stdout",
          "text": [
            "[1, 2, 3, 4, 5, 6, 7, 8, 9, 10]\n"
          ]
        }
      ]
    },
    {
      "cell_type": "markdown",
      "source": [
        "**Exercise 10**"
      ],
      "metadata": {
        "id": "-Xh1ed3-NWMI"
      }
    },
    {
      "cell_type": "code",
      "source": [
        "# 10: List Comprehension\n",
        "# Use list comprehension to create list with squares of numbers from 1 to 5.\n",
        "# print list\n",
        "\n",
        "squares = [number**2 for number in range(1,6)]\n",
        "print(squares)"
      ],
      "metadata": {
        "colab": {
          "base_uri": "https://localhost:8080/"
        },
        "id": "qfD7aq0ZNY5p",
        "outputId": "8883ee02-ca77-484b-f729-8bb9732f4298"
      },
      "execution_count": 13,
      "outputs": [
        {
          "output_type": "stream",
          "name": "stdout",
          "text": [
            "[1, 4, 9, 16, 25]\n"
          ]
        }
      ]
    }
  ]
}